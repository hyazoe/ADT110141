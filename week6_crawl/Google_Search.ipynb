{
 "cells": [
  {
   "cell_type": "code",
   "execution_count": 11,
   "id": "11c69f90",
   "metadata": {},
   "outputs": [
    {
     "name": "stdout",
     "output_type": "stream",
     "text": [
      "標題：國立臺中教育大學www.ntcu.edu.tw\n",
      "網址：https://www.ntcu.edu.tw/&sa=U&ved=2ahUKEwjri9a8rP-BAxVKU94KHQ9uCPUQFnoECAgQAg&usg=AOvVaw0IFY-UZyQveqO_ZVrO_XE8\n",
      "\n",
      "標題：國立臺中教育大學 - 維基百科zh.wikipedia.org › zh-tw › 國立臺中教育大學\n",
      "網址：https://zh.wikipedia.org/zh-tw/%25E5%259C%258B%25E7%25AB%258B%25E8%2587%25BA%25E4%25B8%25AD%25E6%2595%2599%25E8%2582%25B2%25E5%25A4%25A7%25E5%25AD%25B8&sa=U&ved=2ahUKEwjri9a8rP-BAxVKU94KHQ9uCPUQFnoECAIQAg&usg=AOvVaw0JmzeLqMoVjLjBlTA6j55C\n",
      "\n",
      "標題：國立臺中教育大學 - 台灣棒球維基館twbsball.dils.tku.edu.tw › 主分類 › 棒球 › 組織 › 大專院校\n",
      "網址：http://twbsball.dils.tku.edu.tw/wiki/index.php/%25E5%259C%258B%25E7%25AB%258B%25E8%2587%25BA%25E4%25B8%25AD%25E6%2595%2599%25E8%2582%25B2%25E5%25A4%25A7%25E5%25AD%25B8&sa=U&ved=2ahUKEwjri9a8rP-BAxVKU94KHQ9uCPUQFnoECAQQAg&usg=AOvVaw3DcLMwxDZpJA_cuy4V_q6N\n",
      "\n",
      "標題：國立台中教育大學 - 大學博覽www.testnews.com.tw › shibao › view\n",
      "網址：https://www.testnews.com.tw/shibao/index.php%3Froute%3Dschool/view%26schoolcategory_id%3D5%26school_id%3D272&sa=U&ved=2ahUKEwjri9a8rP-BAxVKU94KHQ9uCPUQFnoECAcQAg&usg=AOvVaw1lDSfe2mgX6KKinjFy8GKT\n",
      "\n",
      "標題：國立臺中教育大學通識教育中心 - Facebookwww.facebook.com › ntcuge\n",
      "網址：https://www.facebook.com/ntcuge/%3Flocale%3Dzh_TW&sa=U&ved=2ahUKEwjri9a8rP-BAxVKU94KHQ9uCPUQFnoECAUQAg&usg=AOvVaw2Hq5iDpG2uL8nDBVTLnWWx\n",
      "\n",
      "標題：國立台中教育大學- 西區- 台中市- 台灣旅遊資訊- 旅遊導覽www.travelking.com.tw › tourguide › scenery1078\n",
      "網址：https://www.travelking.com.tw/tourguide/scenery1078.html&sa=U&ved=2ahUKEwjri9a8rP-BAxVKU94KHQ9uCPUQFnoECAEQAg&usg=AOvVaw2ggpDpJXb4a1VtDr5hyaI6\n",
      "\n",
      "標題：國立臺中教育大學tue.utaipei.edu.tw › ...\n",
      "網址：https://tue.utaipei.edu.tw/p/412-1017-87.php%3FLang%3Dzh-tw&sa=U&ved=2ahUKEwjri9a8rP-BAxVKU94KHQ9uCPUQFnoECAYQAg&usg=AOvVaw3JQal2yNzisQPDZjXdg-_d\n",
      "\n",
      "標題：國立臺中教育大學 - 馬來西亞留台校友會聯合總會www.faatum.com.my › 國立臺中教育大學\n",
      "網址：https://www.faatum.com.my/%25E5%259C%258B%25E7%25AB%258B%25E8%2587%25BA%25E4%25B8%25AD%25E6%2595%2599%25E8%2582%25B2%25E5%25A4%25A7%25E5%25AD%25B8/&sa=U&ved=2ahUKEwjri9a8rP-BAxVKU94KHQ9uCPUQFnoECAMQAg&usg=AOvVaw2_TxDrJcNnWpd8BbcTXxtr\n",
      "\n"
     ]
    }
   ],
   "source": [
    "# Google搜尋\n",
    "import requests\n",
    "from bs4 import BeautifulSoup\n",
    "\n",
    "# Google 搜尋 URL\n",
    "google_url = 'https://www.google.com.tw/search'\n",
    "\n",
    "# 查詢參數\n",
    "my_params = {'q': '中教大'}\n",
    "\n",
    "# 下載 Google 搜尋結果\n",
    "r = requests.get(google_url, params = my_params)\n",
    "\n",
    "# 確認是否下載成功\n",
    "#if r.status_code == requests.codes.ok:\n",
    "  # 以 BeautifulSoup 解析 HTML 原始碼\n",
    "soup = BeautifulSoup(r.text, 'html.parser')\n",
    "\n",
    "  # 觀察 HTML 原始碼 prettify()->換行\n",
    "  #print(soup.prettify())\n",
    "\n",
    "  # 以 CSS 的選擇器來抓取 Google 的搜尋結果\n",
    "items = soup.select('div.kCrYT > a[href^=\"/url\"]')\n",
    "  #print(items)\n",
    " \n",
    "for i in items:\n",
    "    # 標題\n",
    "    print(\"標題：\" + i.text)\n",
    "    # 網址\n",
    "    # 清除網址前面的url\n",
    "    url = i.get('href')\n",
    "    cleaned_url = url[7:] if url.startswith('/url') else url\n",
    "    print(\"網址：\" + cleaned_url)\n",
    "    print()"
   ]
  },
  {
   "cell_type": "code",
   "execution_count": null,
   "id": "0c93838f",
   "metadata": {},
   "outputs": [],
   "source": []
  }
 ],
 "metadata": {
  "kernelspec": {
   "display_name": "Python 3 (ipykernel)",
   "language": "python",
   "name": "python3"
  },
  "language_info": {
   "codemirror_mode": {
    "name": "ipython",
    "version": 3
   },
   "file_extension": ".py",
   "mimetype": "text/x-python",
   "name": "python",
   "nbconvert_exporter": "python",
   "pygments_lexer": "ipython3",
   "version": "3.11.5"
  }
 },
 "nbformat": 4,
 "nbformat_minor": 5
}
